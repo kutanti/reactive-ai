{
 "cells": [
  {
   "cell_type": "code",
   "execution_count": null,
   "metadata": {},
   "outputs": [],
   "source": [
    "# Import necessary libraries\n",
    "from selenium import webdriver\n",
    "from selenium.webdriver.common.by import By\n",
    "from selenium.webdriver.chrome.options import Options\n",
    "from google.cloud import speech\n",
    "import time\n",
    "from src.clients.openaiclient import OpenAiClient\n",
    "\n",
    "openaiClient = OpenAiClient()\n",
    "\n",
    "\n",
    "# Configure Chrome options\n",
    "chrome_options = Options()\n",
    "chrome_options.add_argument(\"--headless\")\n",
    "chrome_options.add_argument(\"--use-fake-ui-for-media-stream\")\n",
    "driver = webdriver.Chrome(options=chrome_options)\n",
    "\n",
    "# Speech Client for transcription\n",
    "speech_client = speech.SpeechClient()\n",
    "\n",
    "# Accept Invite and Join Google Meet\n",
    "def join_google_meet(meet_link):\n",
    "    driver.get(meet_link)\n",
    "    time.sleep(5)  # Time for the page to load\n",
    "\n",
    "    # Click \"Join\" button after any required initial setup\n",
    "    join_button = driver.find_element(By.XPATH, '//*[@id=\"join-button-selector\"]')\n",
    "    join_button.click()\n",
    "    print(\"Bot has joined the Google Meet.\")\n"
   ]
  }
 ],
 "metadata": {
  "kernelspec": {
   "display_name": "venv",
   "language": "python",
   "name": "python3"
  },
  "language_info": {
   "codemirror_mode": {
    "name": "ipython",
    "version": 3
   },
   "file_extension": ".py",
   "mimetype": "text/x-python",
   "name": "python",
   "nbconvert_exporter": "python",
   "pygments_lexer": "ipython3",
   "version": "3.10.15"
  }
 },
 "nbformat": 4,
 "nbformat_minor": 2
}
